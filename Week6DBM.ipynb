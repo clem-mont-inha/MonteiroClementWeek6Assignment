{
  "nbformat": 4,
  "nbformat_minor": 0,
  "metadata": {
    "colab": {
      "provenance": [],
      "authorship_tag": "ABX9TyMUlGY/Mk5lvX5DByxTJrkm",
      "include_colab_link": true
    },
    "kernelspec": {
      "name": "python3",
      "display_name": "Python 3"
    },
    "language_info": {
      "name": "python"
    }
  },
  "cells": [
    {
      "cell_type": "markdown",
      "metadata": {
        "id": "view-in-github",
        "colab_type": "text"
      },
      "source": [
        "<a href=\"https://colab.research.google.com/github/clem-mont-inha/MonteiroClementWeek6Assignment/blob/main/Week6DBM.ipynb\" target=\"_parent\"><img src=\"https://colab.research.google.com/assets/colab-badge.svg\" alt=\"Open In Colab\"/></a>"
      ]
    },
    {
      "cell_type": "code",
      "source": [
        "import sqlite3\n",
        "\n",
        "conn = sqlite3.connect('company_database.db')\n",
        "print(\"Opened Database succesfully\")\n",
        "\n",
        "conn.execute('''\n",
        "CREATE TABLE IF NOT EXISTS Employee\n",
        "(ssn INT NOT NULL,\n",
        "fname TEXT NOT NULL,\n",
        "sex INT NOT NULL,\n",
        "salary INT,\n",
        "lname TEXT,\n",
        "adress TEXT,\n",
        "bdate DATETIME,\n",
        "minit INT,\n",
        "dno INT,\n",
        "PRIMARY KEY(ssn));''')\n",
        "\n",
        "print(\"Table created succesfully\")"
      ],
      "metadata": {
        "colab": {
          "base_uri": "https://localhost:8080/"
        },
        "id": "gyEYMC0ZuIMO",
        "outputId": "9579ddfe-7ddc-404e-8789-e742a220c73f"
      },
      "execution_count": 4,
      "outputs": [
        {
          "output_type": "stream",
          "name": "stdout",
          "text": [
            "Opened Database succesfully\n",
            "Table created succesfully\n"
          ]
        }
      ]
    },
    {
      "cell_type": "code",
      "source": [
        "conn.execute('''\n",
        "CREATE TABLE IF NOT EXISTS Dependent\n",
        "(dependentname INT NOT NULL,\n",
        "sex INT NOT NULL,\n",
        "bdate DATETIME NOT NULL,\n",
        "relationship TEXT,\n",
        "essn INT NOT NULL,\n",
        "PRIMARY KEY(dependentname),\n",
        "FOREIGN KEY(essn) REFERENCES Employee(ssn));''')\n",
        "\n",
        "print(\"Table created succesfully\")"
      ],
      "metadata": {
        "colab": {
          "base_uri": "https://localhost:8080/"
        },
        "id": "MQx3Ms9Wm68R",
        "outputId": "9b7d1bac-360a-436e-fe97-f2fdf9395c94"
      },
      "execution_count": 10,
      "outputs": [
        {
          "output_type": "stream",
          "name": "stdout",
          "text": [
            "Table created succesfully\n"
          ]
        }
      ]
    },
    {
      "cell_type": "code",
      "source": [
        "conn.execute('''\n",
        "CREATE TABLE IF NOT EXISTS Department\n",
        "(dnumber INT NOT NULL,\n",
        "dname TEXT NOT NULL,\n",
        "mgrssn INT NOT NULL,\n",
        "PRIMARY KEY(dnumber),\n",
        "FOREIGN KEY(mgrssn) REFERENCES Employee(ssn));''')\n",
        "\n",
        "print(\"Table created succesfully\")"
      ],
      "metadata": {
        "colab": {
          "base_uri": "https://localhost:8080/"
        },
        "id": "Db1cYmlNqCBt",
        "outputId": "9ae81ae0-f929-4a84-e785-4dfd9c2515db"
      },
      "execution_count": 11,
      "outputs": [
        {
          "output_type": "stream",
          "name": "stdout",
          "text": [
            "Table created succesfully\n"
          ]
        }
      ]
    },
    {
      "cell_type": "code",
      "source": [
        "conn.execute('''\n",
        "CREATE TABLE IF NOT EXISTS Project\n",
        "(pnumber INT NOT NULL,\n",
        "pname TEXT NOT NULL,\n",
        "plocation TEXT NOT NULL,\n",
        "dnumber INT NOT NULL,\n",
        "PRIMARY KEY(pnumber),\n",
        "FOREIGN KEY(dnumber) REFERENCES Department(dnumber));''')\n",
        "\n",
        "print(\"Table created succesfully\")"
      ],
      "metadata": {
        "colab": {
          "base_uri": "https://localhost:8080/"
        },
        "id": "UuiKk_NyqfmW",
        "outputId": "65b9bc2c-1f7f-4a50-f601-b45e96bb2a8d"
      },
      "execution_count": 15,
      "outputs": [
        {
          "output_type": "stream",
          "name": "stdout",
          "text": [
            "Table created succesfully\n"
          ]
        }
      ]
    },
    {
      "cell_type": "code",
      "source": [
        "conn.execute('''\n",
        "CREATE TABLE IF NOT EXISTS Employee_Project\n",
        "(pnumber INT NOT NULL,\n",
        "hours TEXT NOT NULL,\n",
        "ssn TEXT NOT NULL,\n",
        "FOREIGN KEY(pnumber) REFERENCES Project(pnumber),\n",
        "FOREIGN KEY(ssn) REFERENCES Employee(ssn));''')\n",
        "\n",
        "print(\"Table created succesfully\")"
      ],
      "metadata": {
        "colab": {
          "base_uri": "https://localhost:8080/"
        },
        "id": "4q7_N7qeq4bL",
        "outputId": "3c2b6ba4-c41b-4bce-e141-b0ecb71f7912"
      },
      "execution_count": 16,
      "outputs": [
        {
          "output_type": "stream",
          "name": "stdout",
          "text": [
            "Table created succesfully\n"
          ]
        }
      ]
    },
    {
      "cell_type": "code",
      "source": [
        "conn.execute('''\n",
        "CREATE TABLE IF NOT EXISTS Locations\n",
        "(dlocation INT NOT NULL,\n",
        "PRIMARY KEY(dlocation));''')\n",
        "\n",
        "print(\"Table created succesfully\")"
      ],
      "metadata": {
        "colab": {
          "base_uri": "https://localhost:8080/"
        },
        "id": "iQ4_OiJ4rvaq",
        "outputId": "d86fe122-fc9a-4a70-cfed-0f5882b92ee5"
      },
      "execution_count": 17,
      "outputs": [
        {
          "output_type": "stream",
          "name": "stdout",
          "text": [
            "Table created succesfully\n"
          ]
        }
      ]
    },
    {
      "cell_type": "code",
      "source": [
        "conn.execute('''\n",
        "CREATE TABLE IF NOT EXISTS Department_Locations\n",
        "(dlocation INT NOT NULL,\n",
        "dnumber INT NOT NULL,\n",
        "FOREIGN KEY(dnumber) REFERENCES Department(dnumber),\n",
        "FOREIGN KEY(dlocation) REFERENCES Locations(dlocation));''')\n",
        "\n",
        "print(\"Table created succesfully\")"
      ],
      "metadata": {
        "colab": {
          "base_uri": "https://localhost:8080/"
        },
        "id": "1eIHg4_hreG-",
        "outputId": "16c9873c-4157-4c77-b41b-7d44b9a6ac40"
      },
      "execution_count": 20,
      "outputs": [
        {
          "output_type": "stream",
          "name": "stdout",
          "text": [
            "Table created succesfully\n"
          ]
        }
      ]
    },
    {
      "cell_type": "code",
      "source": [
        "r_set=conn.execute('''select name from sqlite_master where type = 'table' ''')\n",
        "for row in r_set:\n",
        "  print(row)"
      ],
      "metadata": {
        "colab": {
          "base_uri": "https://localhost:8080/"
        },
        "id": "DmjRaIjysaxz",
        "outputId": "800019b4-365e-4de8-98e0-b29603e97d1d"
      },
      "execution_count": 28,
      "outputs": [
        {
          "output_type": "stream",
          "name": "stdout",
          "text": [
            "('Employee',)\n",
            "('Dependent',)\n",
            "('Department',)\n",
            "('Project',)\n",
            "('Employee_Project',)\n",
            "('Locations',)\n",
            "('Department_Locations',)\n"
          ]
        }
      ]
    },
    {
      "cell_type": "code",
      "source": [
        "conn.close()"
      ],
      "metadata": {
        "id": "dZjJEEWI1eTV"
      },
      "execution_count": null,
      "outputs": []
    }
  ]
}